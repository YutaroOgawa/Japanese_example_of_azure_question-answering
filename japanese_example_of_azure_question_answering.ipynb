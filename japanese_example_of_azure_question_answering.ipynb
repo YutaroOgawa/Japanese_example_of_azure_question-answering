{
  "nbformat": 4,
  "nbformat_minor": 0,
  "metadata": {
    "colab": {
      "name": "japanese_example_of_azure_question answering.ipynb",
      "provenance": [],
      "collapsed_sections": []
    },
    "kernelspec": {
      "name": "python3",
      "display_name": "Python 3"
    },
    "language_info": {
      "name": "python"
    }
  },
  "cells": [
    {
      "cell_type": "markdown",
      "source": [
        "「日本語版実装例：Azure Cognitive Services Question answering」===============================================================\n",
        "\n",
        "実装者：電通国際情報サービスISID 小川 雄太郎\n",
        "\n",
        "実装日：2021年12月08日\n",
        "\n",
        "実行環境：Google Colab\n",
        "\n",
        "概要：\n",
        "\n",
        "2021年11月にGAになったAzure Cognitive Servicesの新しいサービス「Question answering（質問応答）」を日本語で試すプログラムです。\n",
        "\n",
        "Qiitaの記事[「日本語文書に対する質問に自動で回答：Azure Question answeringの使用方法を解説」](https://qiita.com/sugulu_Ogawa_ISID/items/3fb36bee9d47b8529b15)の添付プログラムとなります。\n",
        "\n",
        "---\n",
        "（参考）\n",
        "\n",
        "記事名：Question answering feature is generally available（Published Nov 02 2021）\n",
        "\n",
        "URL：https://techcommunity.microsoft.com/t5/azure-ai-blog/question-answering-feature-is-generally-available/ba-p/2899497\n",
        "\n",
        "---\n"
      ],
      "metadata": {
        "id": "eok9a75E107g"
      }
    },
    {
      "cell_type": "markdown",
      "source": [
        "### 1. Azureの質問応答（question answering）のライブラリをインストールします"
      ],
      "metadata": {
        "id": "OXI98ruk3twT"
      }
    },
    {
      "cell_type": "code",
      "execution_count": 1,
      "metadata": {
        "colab": {
          "base_uri": "https://localhost:8080/"
        },
        "id": "F_NYZM0w1ycZ",
        "outputId": "1813f2d8-8039-42cc-cf0c-889893f94581"
      },
      "outputs": [
        {
          "output_type": "stream",
          "name": "stdout",
          "text": [
            "Requirement already satisfied: azure-ai-language-questionanswering in /usr/local/lib/python3.7/dist-packages (1.0.0)\n",
            "Requirement already satisfied: azure-core<2.0.0,>=1.19.1 in /usr/local/lib/python3.7/dist-packages (from azure-ai-language-questionanswering) (1.21.1)\n",
            "Requirement already satisfied: msrest>=0.6.21 in /usr/local/lib/python3.7/dist-packages (from azure-ai-language-questionanswering) (0.6.21)\n",
            "Requirement already satisfied: six>=1.11.0 in /usr/local/lib/python3.7/dist-packages (from azure-core<2.0.0,>=1.19.1->azure-ai-language-questionanswering) (1.15.0)\n",
            "Requirement already satisfied: requests>=2.18.4 in /usr/local/lib/python3.7/dist-packages (from azure-core<2.0.0,>=1.19.1->azure-ai-language-questionanswering) (2.23.0)\n",
            "Requirement already satisfied: isodate>=0.6.0 in /usr/local/lib/python3.7/dist-packages (from msrest>=0.6.21->azure-ai-language-questionanswering) (0.6.0)\n",
            "Requirement already satisfied: requests-oauthlib>=0.5.0 in /usr/local/lib/python3.7/dist-packages (from msrest>=0.6.21->azure-ai-language-questionanswering) (1.3.0)\n",
            "Requirement already satisfied: certifi>=2017.4.17 in /usr/local/lib/python3.7/dist-packages (from msrest>=0.6.21->azure-ai-language-questionanswering) (2021.10.8)\n",
            "Requirement already satisfied: idna<3,>=2.5 in /usr/local/lib/python3.7/dist-packages (from requests>=2.18.4->azure-core<2.0.0,>=1.19.1->azure-ai-language-questionanswering) (2.10)\n",
            "Requirement already satisfied: urllib3!=1.25.0,!=1.25.1,<1.26,>=1.21.1 in /usr/local/lib/python3.7/dist-packages (from requests>=2.18.4->azure-core<2.0.0,>=1.19.1->azure-ai-language-questionanswering) (1.24.3)\n",
            "Requirement already satisfied: chardet<4,>=3.0.2 in /usr/local/lib/python3.7/dist-packages (from requests>=2.18.4->azure-core<2.0.0,>=1.19.1->azure-ai-language-questionanswering) (3.0.4)\n",
            "Requirement already satisfied: oauthlib>=3.0.0 in /usr/local/lib/python3.7/dist-packages (from requests-oauthlib>=0.5.0->msrest>=0.6.21->azure-ai-language-questionanswering) (3.1.1)\n"
          ]
        }
      ],
      "source": [
        "!pip install azure-ai-language-questionanswering\n"
      ]
    },
    {
      "cell_type": "markdown",
      "source": [
        "### 2. 設定値を代入します（今回はセキュリテイを無視していますが、本番環境では重要情報なのでご注意を）"
      ],
      "metadata": {
        "id": "xXRveiy73zH8"
      }
    },
    {
      "cell_type": "code",
      "source": [
        "# 参考\n",
        "# https://docs.microsoft.com/ja-jp/azure/cognitive-services/language-service/question-answering/quickstart/sdk?pivots=programming-language-python\n",
        "\n",
        "from azure.core.credentials import AzureKeyCredential\n",
        "from azure.ai.language.questionanswering import QuestionAnsweringClient\n",
        "\n",
        "endpoint = \"https://ogawa-test-qa.cognitiveservices.azure.com/\"  # みたいな、endpointのURL\n",
        "credential = AzureKeyCredential(\"{YOUR-LANGUAGE-RESOURCE-KEY}\")\n",
        "knowledge_base_project = \"{YOUR-PROJECT-NAME}\"\n",
        "deployment = \"production\"\n"
      ],
      "metadata": {
        "id": "wrGA2DLF4WRO"
      },
      "execution_count": 2,
      "outputs": []
    },
    {
      "cell_type": "markdown",
      "source": [
        "### 3. 質問を投げ、応答を取得します"
      ],
      "metadata": {
        "id": "n8eKK0Sj3znV"
      }
    },
    {
      "cell_type": "code",
      "source": [
        "question=\"何人まで食事はOKですか？\""
      ],
      "metadata": {
        "id": "0c0m4yhX8G5F"
      },
      "execution_count": 3,
      "outputs": []
    },
    {
      "cell_type": "code",
      "source": [
        "\n",
        "client = QuestionAnsweringClient(endpoint, credential)\n",
        "\n",
        "with client:\n",
        "    output = client.get_answers(\n",
        "        question = question,\n",
        "        project_name=knowledge_base_project,\n",
        "        deployment_name=deployment\n",
        "    )\n",
        "\n",
        "print(\"Qes: {}\".format(question))\n",
        "print(\"Ans: {}\".format(output.answers[0].answer))"
      ],
      "metadata": {
        "colab": {
          "base_uri": "https://localhost:8080/"
        },
        "id": "B9JeWZIr8G8V",
        "outputId": "7ab5bc8a-47a1-48c3-e213-48c4a3848843"
      },
      "execution_count": 4,
      "outputs": [
        {
          "output_type": "stream",
          "name": "stdout",
          "text": [
            "Qes: 何人まで食事はOKですか？\n",
            "Ans: A2：忘年会や新年会など、特に大人数の会食が増加することが想定される年末年始において、特に大人数での会食における感染リスクを低減するため、「同一テーブル8名以内の利用」をお願いしています。\n",
            "\n",
            "「8名」の設定については、飲食店の実情（飲食店のボックス席や、中華料理店の円卓、結婚式場の円卓等は概ね6名～8名程度）を踏まえ、それを上回る、特に大人数での会食における感染リスクを低減する観点から、行ったものです。\n"
          ]
        }
      ]
    },
    {
      "cell_type": "code",
      "source": [
        "# 回答の信頼度を確認\n",
        "output.answers[0].confidence\n"
      ],
      "metadata": {
        "colab": {
          "base_uri": "https://localhost:8080/"
        },
        "id": "hUCrurd285Rl",
        "outputId": "a2a3e4b4-90de-48d1-9a5b-e76638e75454"
      },
      "execution_count": 5,
      "outputs": [
        {
          "output_type": "execute_result",
          "data": {
            "text/plain": [
              "0.044500000000000005"
            ]
          },
          "metadata": {},
          "execution_count": 5
        }
      ]
    },
    {
      "cell_type": "markdown",
      "source": [
        "### 4. SDKの解説から引数などを確認し、short answerを返すようにする\n",
        "\n",
        "https://azuresdkdocs.blob.core.windows.net/$web/python/azure-ai-language-questionanswering/1.0.0/azure.ai.language.questionanswering.html#azure.ai.language.questionanswering.QuestionAnsweringClient.get_answers"
      ],
      "metadata": {
        "id": "2wBXR8qC30Cd"
      }
    },
    {
      "cell_type": "code",
      "source": [
        "# short answerの設定\n",
        "# https://azuresdkdocs.blob.core.windows.net/$web/python/azure-ai-language-questionanswering/1.0.0/azure.ai.language.questionanswering.models.html#azure.ai.language.questionanswering.models.ShortAnswerOptions\n",
        "\n",
        "from azure.ai.language.questionanswering.models import ShortAnswerOptions\n",
        "\n",
        "short_answer_options = ShortAnswerOptions()\n",
        "short_answer_options.enable = True"
      ],
      "metadata": {
        "id": "asx-j7xd-1EV"
      },
      "execution_count": 6,
      "outputs": []
    },
    {
      "cell_type": "code",
      "source": [
        "question=\"何人まで食事はOKですか？\""
      ],
      "metadata": {
        "id": "SAej84K0-Gl3"
      },
      "execution_count": 7,
      "outputs": []
    },
    {
      "cell_type": "code",
      "source": [
        "client = QuestionAnsweringClient(endpoint, credential)\n",
        "\n",
        "with client:\n",
        "    output = client.get_answers(\n",
        "        question = question,\n",
        "        project_name=knowledge_base_project,\n",
        "        deployment_name=deployment,\n",
        "        short_answer_options = short_answer_options  # 追加しました\n",
        "    )\n",
        "\n",
        "print(\"Qes: {}\".format(question))\n",
        "print(\"Short Ans: {}\".format(output.answers[0].short_answer.text))\n",
        "print(\"Long Ans: {}\".format(output.answers[0].answer))\n"
      ],
      "metadata": {
        "colab": {
          "base_uri": "https://localhost:8080/"
        },
        "id": "wSjnKkdz-Gty",
        "outputId": "279a31a3-317c-44cc-f0b6-83301ef56f15"
      },
      "execution_count": 8,
      "outputs": [
        {
          "output_type": "stream",
          "name": "stdout",
          "text": [
            "Qes: 何人まで食事はOKですか？\n",
            "Short Ans: 8名\n",
            "Long Ans: A2：忘年会や新年会など、特に大人数の会食が増加することが想定される年末年始において、特に大人数での会食における感染リスクを低減するため、「同一テーブル8名以内の利用」をお願いしています。\n",
            "\n",
            "「8名」の設定については、飲食店の実情（飲食店のボックス席や、中華料理店の円卓、結婚式場の円卓等は概ね6名～8名程度）を踏まえ、それを上回る、特に大人数での会食における感染リスクを低減する観点から、行ったものです。\n"
          ]
        }
      ]
    },
    {
      "cell_type": "markdown",
      "source": [
        "### 5. ナレッジベースのプロジェクトを使用せず、文章を与えて、回答を取得する方法"
      ],
      "metadata": {
        "id": "f92vd-4i30bw"
      }
    },
    {
      "cell_type": "code",
      "source": [
        "# 与える文章を用意します。こちらの富士見高原スキー場のサイトから文章をお借りします\n",
        "# https://fujimikogen-ski.jp/guide/beautifulscenery.html\n",
        "\n",
        "text_documents = ('第一リフト頂上から徒歩3分。'\n",
        "'創造の森・望郷の丘展望台は、富士山や南アルプス、北アルプスを望む絶景ポイントで、日本の高い山 １位～３位 を見ることができます。'\n",
        "'創造の森は、長靴で散策ができます。寒い冬は空気が澄み、特に眺望が楽しめます。'\n",
        "'日本の高い山トップ３を一度に見られるチャンスはそうそうあるものではありません。富士見高原スキー場でぜひご覧ください。'\n",
        "'日本の高い山 トップ３'\n",
        "'1位　富士山 '\n",
        "'2位　北岳（南アルプス）'\n",
        "'3位　奥穂高岳（北アルプス）'\n",
        "'「関東の富士見百景色」にも 選ばれている絶景スポットです。')"
      ],
      "metadata": {
        "id": "IMSj8oWYACef"
      },
      "execution_count": 9,
      "outputs": []
    },
    {
      "cell_type": "code",
      "source": [
        "text_documents"
      ],
      "metadata": {
        "colab": {
          "base_uri": "https://localhost:8080/",
          "height": 72
        },
        "id": "KmOdgVMrBO7e",
        "outputId": "ab7726a2-1aa0-4190-d101-ed687586845f"
      },
      "execution_count": 10,
      "outputs": [
        {
          "output_type": "execute_result",
          "data": {
            "application/vnd.google.colaboratory.intrinsic+json": {
              "type": "string"
            },
            "text/plain": [
              "'第一リフト頂上から徒歩3分。創造の森・望郷の丘展望台は、富士山や南アルプス、北アルプスを望む絶景ポイントで、日本の高い山 １位～３位 を見ることができます。創造の森は、長靴で散策ができます。寒い冬は空気が澄み、特に眺望が楽しめます。日本の高い山トップ３を一度に見られるチャンスはそうそうあるものではありません。富士見高原スキー場でぜひご覧ください。日本の高い山 トップ３1位\\u3000富士山 2位\\u3000北岳（南アルプス）3位\\u3000奥穂高岳（北アルプス）「関東の富士見百景色」にも 選ばれている絶景スポットです。'"
            ]
          },
          "metadata": {},
          "execution_count": 10
        }
      ]
    },
    {
      "cell_type": "code",
      "source": [
        "question=\"日本で2番目に高い山は？\""
      ],
      "metadata": {
        "id": "OsyNbD2JCvfV"
      },
      "execution_count": 11,
      "outputs": []
    },
    {
      "cell_type": "code",
      "source": [
        "from azure.ai.language.questionanswering import models as qna\n",
        "\n",
        "client = QuestionAnsweringClient(endpoint, credential)\n",
        "\n",
        "with client:\n",
        "    input = qna.AnswersFromTextOptions(\n",
        "        question=question,\n",
        "        text_documents=[text_documents],\n",
        "    )\n",
        "    output = client.get_answers_from_text(input)\n",
        "\n",
        "print(\"Qes: {}\".format(question))\n",
        "print(\"Short Ans: {}\".format(output.answers[0].short_answer.text))\n"
      ],
      "metadata": {
        "colab": {
          "base_uri": "https://localhost:8080/"
        },
        "id": "BeATGld6C1KC",
        "outputId": "0b17118d-bb42-45e2-b6c8-33f1300176c7"
      },
      "execution_count": 12,
      "outputs": [
        {
          "output_type": "stream",
          "name": "stdout",
          "text": [
            "Qes: 日本で2番目に高い山は？\n",
            "Short Ans: 北岳\n"
          ]
        }
      ]
    },
    {
      "cell_type": "markdown",
      "source": [
        "以上。"
      ],
      "metadata": {
        "id": "bLDg4KtO31BV"
      }
    }
  ]
}